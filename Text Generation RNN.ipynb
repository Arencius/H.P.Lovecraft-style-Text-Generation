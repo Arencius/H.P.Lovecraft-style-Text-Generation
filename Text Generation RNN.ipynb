{
 "cells": [
  {
   "cell_type": "code",
   "execution_count": 9,
   "metadata": {
    "colab": {
     "base_uri": "https://localhost:8080/"
    },
    "id": "YmnJUhzqRdgR",
    "outputId": "01945822-6dff-40ea-d801-533d9a0a3fa7"
   },
   "outputs": [],
   "source": [
    "import numpy as np\n",
    "import pandas as pd\n",
    "import matplotlib.pyplot as plt\n",
    "from sklearn.utils import shuffle\n",
    "from tensorflow.keras.models import Sequential, save_model, load_model\n",
    "from keras.layers import Embedding, Dense, LSTM, Bidirectional\n",
    "from keras.optimizers import Nadam\n",
    "from keras.callbacks import EarlyStopping, LearningRateScheduler, ModelCheckpoint, History\n",
    "from keras.preprocessing.text import Tokenizer\n",
    "from keras.preprocessing.sequence import pad_sequences\n",
    "import re\n",
    "import pickle\n",
    "\n",
    "#!pip install PyPDF2==1.26.0\n",
    "from PyPDF2 import PdfFileWriter, PdfFileReader"
   ]
  },
  {
   "cell_type": "code",
   "execution_count": 22,
   "metadata": {
    "id": "0czAijB9gouW"
   },
   "outputs": [],
   "source": [
    "## HELPER FUNCTIONS ##\n",
    "\n",
    "SEQUENCE_LENGTH = 21   # 20 words in sentence, model predict 21st\n",
    "SENTENCE_LENGTH_ERROR_MESSAGE = \"The sentence cannot be empty\"\n",
    "TEXT_LENGTH_ERROR_MESSAGE = \"The length of generated text must be an integer larger than 0\"\n",
    "\n",
    "def plot_training_history(training_history:History):\n",
    "  \"\"\"\n",
    "  Plots training history of the model on two separate plots with data about: training accuracy and training loss\n",
    "\n",
    "  :param training_history: callbacks.History object, history of the model training\n",
    "  \"\"\"\n",
    "  history = training_history.history\n",
    "  train_acc, train_loss = history['accuracy'], history['loss']\n",
    "  nb_epochs = len(train_acc)            # number of epochs \n",
    "\n",
    "  fig, (acc_plot, loss_plot) = plt.subplots(1,2, figsize=(12,6))\n",
    "\n",
    "  acc_plot.plot(list(range(nb_epochs)), train_acc, 'orange') \n",
    "  acc_plot.grid()\n",
    "  acc_plot.title.set_text('Training accuracy')\n",
    "  acc_plot.set_xlabel('Epochs')\n",
    "  acc_plot.set_ylabel('Accuracy')\n",
    "\n",
    "  loss_plot.plot(list(range(nb_epochs)), train_loss, 'blue') \n",
    "  loss_plot.grid()\n",
    "  loss_plot.title.set_text('Training loss')\n",
    "  loss_plot.set_xlabel('Epochs')\n",
    "  loss_plot.set_ylabel('Loss')\n",
    "\n",
    "\n",
    "def generate_text(model:Sequential, tokenizer:Tokenizer, sentence = None, text_length = 20) -> str:\n",
    "  \"\"\"\n",
    "  Generates text using given model\n",
    "\n",
    "  :param model: Sequential object, the trained RNN model\n",
    "  :param tokenizer: Tokenizer object holding the set of all words on which the model was learned \n",
    "  :param sentence: str, random sentence that will be fed to the model as a start of the further generated text. If None, user will be asked to input the starting sentence.\n",
    "  :param text_length: int, number of words to generate, must be greater than 0. \n",
    "  \"\"\"\n",
    "  if not sentence:\n",
    "    sentence = input('Type in your sentence: ').lower()\n",
    "\n",
    "  assert len(start_sentence.strip()) > 1, SENTENCE_LENGTH_ERROR_MESSAGE\n",
    "  assert text_length > 0, TEXT_LENGTH_ERROR_MESSAGE\n",
    "\n",
    "  for _ in range(text_length):\n",
    "    digit_sentence = np.array(tokenizer.texts_to_sequences([sentence]))\n",
    "    padded = pad_sequences(digit_sentence, maxlen = SEQUENCE_LENGTH - 1, padding = 'pre')\n",
    "\n",
    "    # index of the predicted (most possible) next word in tokenizer vocabulary set\n",
    "    predicted_word = np.argmax(model.predict(padded))\n",
    "\n",
    "    # appending the predicted word to the sentence\n",
    "    sentence += \"{} \".format(tokenizer.index_word[predicted_word])\n",
    "\n",
    "  print(sentence.capitalize())"
   ]
  },
  {
   "cell_type": "markdown",
   "metadata": {},
   "source": [
    "# Importing and preprocessing the data"
   ]
  },
  {
   "cell_type": "markdown",
   "metadata": {},
   "source": [
    "RNNs or Recurrent Neural Networks designed to perform NLP (Natural Language Processing) tasks need properly prepared data to achieve high results:\n",
    "- appropriate amount of input data (sentences in this case),\n",
    "- removed punctuation, numbers and other redundant staff from the sentences\n",
    "- arranging sentences into sequences of the appropriate length, as well as words to be predicted\n",
    "- tokenizing the sentences, i.e. changing the words from the text into numeric form"
   ]
  },
  {
   "cell_type": "code",
   "execution_count": 16,
   "metadata": {
    "id": "eYzsxX02kn-M"
   },
   "outputs": [],
   "source": [
    "origin_pdf = PdfFileReader('The Complete Works of H.P. Lovecraft.pdf', 'rb')\n",
    "\n",
    "START_PAGE = 4  # omit the first pages with cover and table of contents\n",
    "END_PAGE = 203  # first 37 stories\n",
    "\n",
    "original_text = ''\n",
    "\n",
    "for i in range(START_PAGE, END_PAGE):\n",
    "    page_content = origin_pdf.getPage(i).extractText()\n",
    "    original_text += page_content"
   ]
  },
  {
   "cell_type": "code",
   "execution_count": 17,
   "metadata": {
    "id": "dAh_sDntk68_"
   },
   "outputs": [],
   "source": [
    "# regex pattern, containing the names of the stories, along with the year they were written, as well as punctuation marks and remaining numbers \n",
    "pattern = r'([A-Za-z]* [A-Za-z]*\\n \\n\\([0-9]{4}\\)|[0123456789#\".,_?!:;\\n\\t]|Return to Table of Contents)'\n",
    "\n",
    "text = re.sub(pattern, '', original_text).lower()\n",
    "all_words = list(map(lambda word: word.upper() if word == 'i' else word, text.split()))"
   ]
  },
  {
   "cell_type": "code",
   "execution_count": 18,
   "metadata": {
    "id": "7oluznIdafqo"
   },
   "outputs": [],
   "source": [
    "SEQUENCE_LENGTH = 21   # 20 words in sentence, model predict 21st\n",
    "\n",
    "text_sequences = []\n",
    "\n",
    "for i in range(SEQUENCE_LENGTH, len(all_words)):\n",
    "  sequence = all_words[i - SEQUENCE_LENGTH:i]\n",
    "\n",
    "  text_sequences.append(sequence)"
   ]
  },
  {
   "cell_type": "code",
   "execution_count": 35,
   "metadata": {
    "id": "M7NZMumtZnht"
   },
   "outputs": [],
   "source": [
    "tokenizer = Tokenizer()\n",
    "tokenizer.fit_on_texts(text_sequences)  \n",
    "\n",
    "digit_sequences = np.array(tokenizer.texts_to_sequences(text_sequences)) # changing the words into numeric representation\n",
    "\n",
    "# serializing the tokenizer object for later use\n",
    "with open('tokenizer.pickle', 'wb') as file:\n",
    "    pickle.dump(tokenizer, file)"
   ]
  },
  {
   "cell_type": "code",
   "execution_count": 36,
   "metadata": {
    "id": "VHheVx6dvCQ-"
   },
   "outputs": [],
   "source": [
    "# removing the unecessary variables in order to free memory\n",
    "del all_words\n",
    "del text\n",
    "del original_text\n",
    "del text_sequences"
   ]
  },
  {
   "cell_type": "code",
   "execution_count": 37,
   "metadata": {
    "id": "7mKlxznegxKW"
   },
   "outputs": [],
   "source": [
    "# number of all unique words in the text\n",
    "VOCAB_SIZE = len(tokenizer.word_counts) + 1"
   ]
  },
  {
   "cell_type": "code",
   "execution_count": 38,
   "metadata": {
    "colab": {
     "base_uri": "https://localhost:8080/"
    },
    "id": "ug2bjajCx5rw",
    "outputId": "c356759c-d86a-4dbc-cb33-bdb617d50ef4"
   },
   "outputs": [
    {
     "data": {
      "text/plain": [
       "12557"
      ]
     },
     "execution_count": 38,
     "metadata": {
      "tags": []
     },
     "output_type": "execute_result"
    }
   ],
   "source": [
    "VOCAB_SIZE"
   ]
  },
  {
   "cell_type": "code",
   "execution_count": 39,
   "metadata": {
    "id": "qrmKigS5gxdT"
   },
   "outputs": [],
   "source": [
    "# our X and y data\n",
    "sequences = digit_sequences[:,:-1]\n",
    "next_words = to_categorical(digit_sequences[:,-1])\n",
    "\n",
    "sequences, next_words = shuffle(sequences, next_words)"
   ]
  },
  {
   "cell_type": "code",
   "execution_count": 40,
   "metadata": {
    "colab": {
     "base_uri": "https://localhost:8080/"
    },
    "id": "j0UOPAcIrtqS",
    "outputId": "ae631aff-f473-4421-fe42-136d807ebb3a"
   },
   "outputs": [
    {
     "data": {
      "text/plain": [
       "(115224, 20)"
      ]
     },
     "execution_count": 40,
     "metadata": {
      "tags": []
     },
     "output_type": "execute_result"
    }
   ],
   "source": [
    "sequences.shape"
   ]
  },
  {
   "cell_type": "markdown",
   "metadata": {},
   "source": [
    "# Building the RNN"
   ]
  },
  {
   "cell_type": "code",
   "execution_count": 41,
   "metadata": {
    "colab": {
     "base_uri": "https://localhost:8080/"
    },
    "id": "lQ3Ms49amLkn",
    "outputId": "64561975-b01d-4b4c-cecd-2c8139ed0734"
   },
   "outputs": [
    {
     "name": "stdout",
     "output_type": "stream",
     "text": [
      "Model: \"sequential\"\n",
      "_________________________________________________________________\n",
      "Layer (type)                 Output Shape              Param #   \n",
      "=================================================================\n",
      "embedding (Embedding)        (None, 20, 20)            251140    \n",
      "_________________________________________________________________\n",
      "bidirectional (Bidirectional (None, 20, 256)           152576    \n",
      "_________________________________________________________________\n",
      "bidirectional_1 (Bidirection (None, 512)               1050624   \n",
      "_________________________________________________________________\n",
      "dense (Dense)                (None, 128)               65664     \n",
      "_________________________________________________________________\n",
      "dense_1 (Dense)              (None, 12557)             1619853   \n",
      "=================================================================\n",
      "Total params: 3,139,857\n",
      "Trainable params: 3,139,857\n",
      "Non-trainable params: 0\n",
      "_________________________________________________________________\n"
     ]
    }
   ],
   "source": [
    "def lr_schedule(epoch, lr):\n",
    "    \"\"\" Callback for the LearningRateScheduler class. Reduces lr every 60 rounds. \"\"\"\n",
    "    \n",
    "  reduce_factor = 0.8  \n",
    "\n",
    "  if epoch > 1 and epoch % 60 == 0 and lr*reduce_factor >= 0.001: \n",
    "    return lr*reduce_factor\n",
    "\n",
    "  return lr\n",
    "\n",
    "\n",
    "BATCH_SIZE = 128\n",
    "EPOCHS = 150\n",
    "LEARNING_RATE = 0.003\n",
    "OPTIMIZER = Nadam(LEARNING_RATE)\n",
    "CALLBACKS = [EarlyStopping(monitor = 'accuracy', mode = 'max', patience=5, restore_best_weights=True, verbose=1),\n",
    "             LearningRateScheduler(lr_schedule),\n",
    "             ModelCheckpoint('model.h5', monitor = 'accuracy', mode= 'max', save_best_only=True)]\n",
    "\n",
    "\n",
    "model = Sequential([\n",
    "          Embedding(VOCAB_SIZE, SEQUENCE_LENGTH - 1, input_length = SEQUENCE_LENGTH - 1),\n",
    "          Bidirectional(LSTM(128, return_sequences = True)),\n",
    "          Bidirectional(LSTM(256)),\n",
    "          Dense(units = 128, activation = 'relu'),\n",
    "          Dense(units = VOCAB_SIZE, activation = 'softmax')\n",
    "])\n",
    "\n",
    "model.summary()"
   ]
  },
  {
   "cell_type": "code",
   "execution_count": 42,
   "metadata": {
    "colab": {
     "base_uri": "https://localhost:8080/"
    },
    "id": "6R7D9OjdmLxi",
    "outputId": "ae833cd0-c801-4927-bff1-6f30fd0d5eaf"
   },
   "outputs": [
    {
     "name": "stdout",
     "output_type": "stream",
     "text": [
      "Epoch 1/150\n",
      "901/901 [==============================] - 61s 27ms/step - loss: 7.0510 - accuracy: 0.0824\n",
      "Epoch 2/150\n",
      "901/901 [==============================] - 25s 27ms/step - loss: 6.2568 - accuracy: 0.1241\n",
      "Epoch 3/150\n",
      "901/901 [==============================] - 24s 27ms/step - loss: 5.9670 - accuracy: 0.1383\n",
      "Epoch 4/150\n",
      "901/901 [==============================] - 24s 27ms/step - loss: 5.7567 - accuracy: 0.1480\n",
      "Epoch 5/150\n",
      "901/901 [==============================] - 24s 27ms/step - loss: 5.5566 - accuracy: 0.1574\n",
      "Epoch 6/150\n",
      "901/901 [==============================] - 24s 27ms/step - loss: 5.3621 - accuracy: 0.1669\n",
      "Epoch 7/150\n",
      "901/901 [==============================] - 24s 27ms/step - loss: 5.2177 - accuracy: 0.1726\n",
      "Epoch 8/150\n",
      "901/901 [==============================] - 25s 27ms/step - loss: 5.0141 - accuracy: 0.1848\n",
      "Epoch 9/150\n",
      "901/901 [==============================] - 24s 27ms/step - loss: 4.8358 - accuracy: 0.1923\n",
      "Epoch 10/150\n",
      "901/901 [==============================] - 24s 26ms/step - loss: 4.6670 - accuracy: 0.2004\n",
      "Epoch 11/150\n",
      "901/901 [==============================] - 24s 26ms/step - loss: 4.4961 - accuracy: 0.2109\n",
      "Epoch 12/150\n",
      "901/901 [==============================] - 24s 26ms/step - loss: 4.3278 - accuracy: 0.2224\n",
      "Epoch 13/150\n",
      "901/901 [==============================] - 24s 27ms/step - loss: 4.1267 - accuracy: 0.2396\n",
      "Epoch 14/150\n",
      "901/901 [==============================] - 25s 27ms/step - loss: 4.0072 - accuracy: 0.2512\n",
      "Epoch 15/150\n",
      "901/901 [==============================] - 25s 28ms/step - loss: 3.7820 - accuracy: 0.2749\n",
      "Epoch 16/150\n",
      "901/901 [==============================] - 25s 27ms/step - loss: 3.6104 - accuracy: 0.2958\n",
      "Epoch 17/150\n",
      "901/901 [==============================] - 24s 27ms/step - loss: 3.4326 - accuracy: 0.3196\n",
      "Epoch 18/150\n",
      "901/901 [==============================] - 24s 27ms/step - loss: 3.2883 - accuracy: 0.3394\n",
      "Epoch 19/150\n",
      "901/901 [==============================] - 24s 27ms/step - loss: 3.1457 - accuracy: 0.3575\n",
      "Epoch 20/150\n",
      "901/901 [==============================] - 25s 28ms/step - loss: 2.9943 - accuracy: 0.3807\n",
      "Epoch 21/150\n",
      "901/901 [==============================] - 25s 27ms/step - loss: 2.8456 - accuracy: 0.4050\n",
      "Epoch 22/150\n",
      "901/901 [==============================] - 24s 27ms/step - loss: 2.6941 - accuracy: 0.4280\n",
      "Epoch 23/150\n",
      "901/901 [==============================] - 24s 27ms/step - loss: 2.5774 - accuracy: 0.4471\n",
      "Epoch 24/150\n",
      "901/901 [==============================] - 24s 27ms/step - loss: 2.4543 - accuracy: 0.4698\n",
      "Epoch 25/150\n",
      "901/901 [==============================] - 24s 27ms/step - loss: 2.3381 - accuracy: 0.4899\n",
      "Epoch 26/150\n",
      "901/901 [==============================] - 25s 27ms/step - loss: 2.2116 - accuracy: 0.5123\n",
      "Epoch 27/150\n",
      "901/901 [==============================] - 24s 27ms/step - loss: 2.1129 - accuracy: 0.5291\n",
      "Epoch 28/150\n",
      "901/901 [==============================] - 24s 27ms/step - loss: 1.9922 - accuracy: 0.5513\n",
      "Epoch 29/150\n",
      "901/901 [==============================] - 24s 27ms/step - loss: 1.9000 - accuracy: 0.5685\n",
      "Epoch 30/150\n",
      "901/901 [==============================] - 25s 27ms/step - loss: 1.8195 - accuracy: 0.5839\n",
      "Epoch 31/150\n",
      "901/901 [==============================] - 24s 27ms/step - loss: 1.7173 - accuracy: 0.6043\n",
      "Epoch 32/150\n",
      "901/901 [==============================] - 25s 27ms/step - loss: 1.6567 - accuracy: 0.6155\n",
      "Epoch 33/150\n",
      "901/901 [==============================] - 24s 27ms/step - loss: 1.5706 - accuracy: 0.6320\n",
      "Epoch 34/150\n",
      "901/901 [==============================] - 25s 27ms/step - loss: 1.4955 - accuracy: 0.6472\n",
      "Epoch 35/150\n",
      "901/901 [==============================] - 24s 27ms/step - loss: 1.4483 - accuracy: 0.6584\n",
      "Epoch 36/150\n",
      "901/901 [==============================] - 25s 28ms/step - loss: 1.3535 - accuracy: 0.6765\n",
      "Epoch 37/150\n",
      "901/901 [==============================] - 24s 27ms/step - loss: 1.2889 - accuracy: 0.6901\n",
      "Epoch 38/150\n",
      "901/901 [==============================] - 25s 27ms/step - loss: 1.2550 - accuracy: 0.6943\n",
      "Epoch 39/150\n",
      "901/901 [==============================] - 24s 27ms/step - loss: 1.1859 - accuracy: 0.7098\n",
      "Epoch 40/150\n",
      "901/901 [==============================] - 25s 28ms/step - loss: 1.1317 - accuracy: 0.7201\n",
      "Epoch 41/150\n",
      "901/901 [==============================] - 24s 27ms/step - loss: 1.0806 - accuracy: 0.7346\n",
      "Epoch 42/150\n",
      "901/901 [==============================] - 25s 27ms/step - loss: 1.0377 - accuracy: 0.7422\n",
      "Epoch 43/150\n",
      "901/901 [==============================] - 24s 27ms/step - loss: 1.0215 - accuracy: 0.7459\n",
      "Epoch 44/150\n",
      "901/901 [==============================] - 25s 27ms/step - loss: 0.9455 - accuracy: 0.7634\n",
      "Epoch 45/150\n",
      "901/901 [==============================] - 24s 27ms/step - loss: 0.9555 - accuracy: 0.7573\n",
      "Epoch 46/150\n",
      "901/901 [==============================] - 24s 27ms/step - loss: 0.8897 - accuracy: 0.7740\n",
      "Epoch 47/150\n",
      "901/901 [==============================] - 25s 27ms/step - loss: 0.8653 - accuracy: 0.7774\n",
      "Epoch 48/150\n",
      "901/901 [==============================] - 24s 27ms/step - loss: 0.8337 - accuracy: 0.7837\n",
      "Epoch 49/150\n",
      "901/901 [==============================] - 24s 27ms/step - loss: 0.7964 - accuracy: 0.7946\n",
      "Epoch 50/150\n",
      "901/901 [==============================] - 25s 27ms/step - loss: 0.7615 - accuracy: 0.8045\n",
      "Epoch 51/150\n",
      "901/901 [==============================] - 24s 27ms/step - loss: 0.6414 - accuracy: 0.8361\n",
      "Epoch 52/150\n",
      "901/901 [==============================] - 25s 27ms/step - loss: 0.4797 - accuracy: 0.8815\n",
      "Epoch 53/150\n",
      "901/901 [==============================] - 24s 27ms/step - loss: 0.4832 - accuracy: 0.8771\n",
      "Epoch 54/150\n",
      "901/901 [==============================] - 24s 27ms/step - loss: 0.5003 - accuracy: 0.8698\n",
      "Epoch 55/150\n",
      "901/901 [==============================] - 24s 27ms/step - loss: 0.4986 - accuracy: 0.8691\n",
      "Epoch 56/150\n",
      "901/901 [==============================] - 24s 27ms/step - loss: 0.4439 - accuracy: 0.8846\n",
      "Epoch 57/150\n",
      "901/901 [==============================] - 24s 27ms/step - loss: 0.4472 - accuracy: 0.8829\n",
      "Epoch 58/150\n",
      "901/901 [==============================] - 25s 27ms/step - loss: 0.4215 - accuracy: 0.8889\n",
      "Epoch 59/150\n",
      "901/901 [==============================] - 24s 27ms/step - loss: 0.4153 - accuracy: 0.8917\n",
      "Epoch 60/150\n",
      "901/901 [==============================] - 24s 27ms/step - loss: 0.3944 - accuracy: 0.8969\n",
      "Epoch 61/150\n",
      "901/901 [==============================] - 24s 27ms/step - loss: 0.4045 - accuracy: 0.8934\n",
      "Epoch 62/150\n",
      "901/901 [==============================] - 24s 27ms/step - loss: 0.3922 - accuracy: 0.8949\n",
      "Epoch 63/150\n",
      "901/901 [==============================] - 25s 28ms/step - loss: 0.3665 - accuracy: 0.9029\n",
      "Epoch 64/150\n",
      "901/901 [==============================] - 24s 27ms/step - loss: 0.3696 - accuracy: 0.9002\n",
      "Epoch 65/150\n",
      "901/901 [==============================] - 24s 27ms/step - loss: 0.3597 - accuracy: 0.9036\n",
      "Epoch 66/150\n",
      "901/901 [==============================] - 25s 28ms/step - loss: 0.3368 - accuracy: 0.9097\n",
      "Epoch 67/150\n",
      "901/901 [==============================] - 24s 27ms/step - loss: 0.3417 - accuracy: 0.9076\n",
      "Epoch 68/150\n",
      "901/901 [==============================] - 25s 28ms/step - loss: 0.3213 - accuracy: 0.9117\n",
      "Epoch 69/150\n",
      "901/901 [==============================] - 24s 27ms/step - loss: 0.3327 - accuracy: 0.9095\n",
      "Epoch 70/150\n",
      "901/901 [==============================] - 25s 28ms/step - loss: 0.2949 - accuracy: 0.9205\n",
      "Epoch 71/150\n",
      "901/901 [==============================] - 24s 27ms/step - loss: 0.3209 - accuracy: 0.9116\n",
      "Epoch 72/150\n",
      "901/901 [==============================] - 24s 27ms/step - loss: 0.3042 - accuracy: 0.9162\n",
      "Epoch 73/150\n",
      "901/901 [==============================] - 24s 27ms/step - loss: 0.2810 - accuracy: 0.9233\n",
      "Epoch 74/150\n",
      "901/901 [==============================] - 24s 27ms/step - loss: 0.2843 - accuracy: 0.9207\n",
      "Epoch 75/150\n",
      "901/901 [==============================] - 24s 27ms/step - loss: 0.2945 - accuracy: 0.9164\n",
      "Epoch 76/150\n",
      "901/901 [==============================] - 24s 27ms/step - loss: 0.2816 - accuracy: 0.9221\n",
      "Epoch 77/150\n",
      "901/901 [==============================] - 25s 28ms/step - loss: 0.2988 - accuracy: 0.9180\n",
      "Epoch 78/150\n",
      "901/901 [==============================] - 25s 28ms/step - loss: 0.2810 - accuracy: 0.9220\n",
      "Epoch 79/150\n",
      "901/901 [==============================] - 24s 27ms/step - loss: 0.2582 - accuracy: 0.9287\n",
      "Epoch 80/150\n",
      "901/901 [==============================] - 25s 28ms/step - loss: 0.2853 - accuracy: 0.9206\n",
      "Epoch 81/150\n",
      "901/901 [==============================] - 25s 28ms/step - loss: 0.2671 - accuracy: 0.9255\n",
      "Epoch 82/150\n",
      "901/901 [==============================] - 24s 27ms/step - loss: 0.2248 - accuracy: 0.9367\n",
      "Epoch 83/150\n",
      "901/901 [==============================] - 24s 27ms/step - loss: 0.2545 - accuracy: 0.9295\n",
      "Epoch 84/150\n",
      "901/901 [==============================] - 24s 27ms/step - loss: 0.2657 - accuracy: 0.9267\n",
      "Epoch 85/150\n",
      "901/901 [==============================] - 24s 27ms/step - loss: 0.2688 - accuracy: 0.9253\n",
      "Epoch 86/150\n",
      "901/901 [==============================] - 25s 27ms/step - loss: 0.2641 - accuracy: 0.9267\n",
      "Epoch 87/150\n",
      "901/901 [==============================] - 24s 27ms/step - loss: 0.2337 - accuracy: 0.9355\n",
      "Epoch 88/150\n",
      "901/901 [==============================] - 24s 27ms/step - loss: 0.2558 - accuracy: 0.9293\n",
      "Epoch 89/150\n",
      "901/901 [==============================] - 24s 27ms/step - loss: 0.2332 - accuracy: 0.9338\n",
      "Epoch 90/150\n",
      "901/901 [==============================] - 25s 27ms/step - loss: 0.2424 - accuracy: 0.9332\n",
      "Epoch 91/150\n",
      "901/901 [==============================] - 25s 28ms/step - loss: 0.2368 - accuracy: 0.9355\n",
      "Epoch 92/150\n",
      "901/901 [==============================] - 25s 28ms/step - loss: 0.2490 - accuracy: 0.9300\n",
      "Restoring model weights from the end of the best epoch.\n",
      "Epoch 00092: early stopping\n"
     ]
    }
   ],
   "source": [
    "model.compile(optimizer = OPTIMIZER, loss = 'categorical_crossentropy', metrics = ['accuracy'])\n",
    "history = model.fit(sequences, next_words,\n",
    "          batch_size = BATCH_SIZE,\n",
    "          epochs = EPOCHS,\n",
    "          callbacks = CALLBACKS)"
   ]
  },
  {
   "cell_type": "code",
   "execution_count": null,
   "metadata": {
    "id": "4fMBAWJPyGgo"
   },
   "outputs": [],
   "source": [
    "save_model(model, 'model95.h5')"
   ]
  },
  {
   "cell_type": "markdown",
   "metadata": {},
   "source": [
    "# Visualizing the training"
   ]
  },
  {
   "cell_type": "code",
   "execution_count": 43,
   "metadata": {
    "colab": {
     "base_uri": "https://localhost:8080/",
     "height": 404
    },
    "id": "uaDP1Ju-NVKK",
    "outputId": "39d70f22-5edb-4c83-9635-d4c87814a8a1"
   },
   "outputs": [
    {
     "data": {
      "image/png": "[encoded data removed]",
      "text/plain": [
       "<Figure size 864x432 with 2 Axes>"
      ]
     },
     "metadata": {
      "needs_background": "light",
      "tags": []
     },
     "output_type": "display_data"
    }
   ],
   "source": [
    "plot_training_history(history)"
   ]
  },
  {
   "cell_type": "markdown",
   "metadata": {},
   "source": [
    "# Generating the text"
   ]
  },
  {
   "cell_type": "markdown",
   "metadata": {},
   "source": [
    "The final part of the project where we can finally test the capabilities of the trained model. As we can see, the generated text is not entirely consistent due to the lack of punctuation marks, but the created sentences have a kind of Lovecraft writing style, which was expected the most"
   ]
  },
  {
   "cell_type": "code",
   "execution_count": 11,
   "metadata": {},
   "outputs": [],
   "source": [
    "model = load_model('model.h5', compile = False)\n",
    "with open(r'tokenizer.pickle', 'rb') as file:\n",
    "    tokenizer = pickle.load(file)"
   ]
  },
  {
   "cell_type": "code",
   "execution_count": 28,
   "metadata": {
    "colab": {
     "base_uri": "https://localhost:8080/"
    },
    "id": "BRKkaqaU4iRs",
    "outputId": "4e86bcb5-d2dc-4d0a-fa78-c3c751e187bb"
   },
   "outputs": [
    {
     "name": "stdout",
     "output_type": "stream",
     "text": [
      "Only two of the prisoners were found sane enough to rattle in that picture without apparent volition when a nameless thing had lain or different horror for a night of resentfully a voice of whiskers his wild mask and a large hope to scatter and up the cosmic creaking vision of the altar around \n"
     ]
    }
   ],
   "source": [
    "# Generating text with the provided starting sentence\n",
    "\n",
    "start_sentence = 'Only two of the prisoners were found sane enough '\n",
    "generate_text(model, tokenizer, start_sentence, text_length = 45)"
   ]
  },
  {
   "cell_type": "code",
   "execution_count": 31,
   "metadata": {},
   "outputs": [
    {
     "name": "stdout",
     "output_type": "stream",
     "text": [
      "Type in your sentence: despite a natural loathing he followed the creature into a \n",
      "Despite a natural loathing he followed the creature into a pitch and unknown burst on the ongas through the nearest side of the mansion its weird hair ib were reflecting hideous terrible like the stairs it must have been a silent and deserted world from beyond the accursed night of little shafts care to the shores of old \n"
     ]
    }
   ],
   "source": [
    "# Generating text with user's input sentence\n",
    "\n",
    "generate_text(model, tokenizer, text_length = 48)"
   ]
  }
 ],
 "metadata": {
  "accelerator": "GPU",
  "colab": {
   "collapsed_sections": [],
   "name": "New Lovecraft Generation.ipynb",
   "provenance": []
  },
  "kernelspec": {
   "display_name": "Python 3",
   "language": "python",
   "name": "python3"
  },
  "language_info": {
   "codemirror_mode": {
    "name": "ipython",
    "version": 3
   },
   "file_extension": ".py",
   "mimetype": "text/x-python",
   "name": "python",
   "nbconvert_exporter": "python",
   "pygments_lexer": "ipython3",
   "version": "3.7.9"
  }
 },
 "nbformat": 4,
 "nbformat_minor": 1
}
